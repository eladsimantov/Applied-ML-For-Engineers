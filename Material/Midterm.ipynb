{
 "cells": [
  {
   "cell_type": "markdown",
   "metadata": {},
   "source": [
    "1. What is the difference between artificial intelligence, machine learning, and deep learning?\n",
    "2. What is the difference between supervised learning, unsupervised learning, and reinforcement\n",
    "learning?\n",
    "3. What is the difference between regression and classification tasks in supervised learning?\n",
    "4. What is linear regression?\n",
    "5. What is artificial neuron?\n",
    "6. What is an activation function and what is its role in neural networks?\n",
    "7. What is the loss or cost function in the context of neural networks?\n",
    "8. What is the main difference between a shallow and deep neural network?\n",
    "9. What are a few of the most commonly used activation functions?\n",
    "10. What is the difference between neural network parameters and hyperparameters?\n",
    "11. What is the depth of a neural network?\n",
    "12. What are weights of a neural network?\n",
    "13. What is the name of the algorithm that enables the neural network to learn the optimal\n",
    "weights and biases?\n",
    "14. What is automatic differentiation?\n",
    "15. Be familiar with how to perform a forward pass hand calculation for a feed-forward neural\n",
    "network.\n",
    "16. Be familiar with the general idea behind backpropagation and how to perform a simplified\n",
    "hand calculation\n",
    "17. What is the main difference between gradient descent and stochastic gradient descent?\n",
    "18. What is the definition of an epoch in the context of neural network training?\n",
    "19. What does it mean for the neural network to generalize?\n",
    "20. What is the difference between training data and testing data in the context of neural net\u0002works?"
   ]
  }
 ],
 "metadata": {
  "language_info": {
   "name": "python"
  }
 },
 "nbformat": 4,
 "nbformat_minor": 2
}
