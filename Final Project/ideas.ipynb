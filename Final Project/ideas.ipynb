{
 "cells": [
  {
   "cell_type": "markdown",
   "metadata": {},
   "source": [
    "# PINNs \n",
    "- Acoustic Wave Equation simulation \n",
    "- Helmholz equation simulation \n",
    "- Impedance matching ?\n"
   ]
  },
  {
   "cell_type": "markdown",
   "metadata": {},
   "source": [
    "If we use the fact that our inputs are the independant variables we can compute the partial derivatives and form the PDE as a residual for the loss function\n"
   ]
  },
  {
   "cell_type": "markdown",
   "metadata": {},
   "source": [
    "- https://github.com/maziarraissi/PINNs/blob/master/docs/index.md\n",
    "- file:///C:/Users/Elad/Downloads/sensors-23-02792-v2.pdf"
   ]
  },
  {
   "cell_type": "markdown",
   "metadata": {},
   "source": []
  }
 ],
 "metadata": {
  "language_info": {
   "name": "python"
  }
 },
 "nbformat": 4,
 "nbformat_minor": 2
}
