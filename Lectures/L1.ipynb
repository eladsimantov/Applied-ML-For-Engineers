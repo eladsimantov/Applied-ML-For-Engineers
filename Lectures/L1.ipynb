{
 "cells": [
  {
   "cell_type": "markdown",
   "metadata": {},
   "source": [
    "# Chapter 2 - Supervised Learning\n"
   ]
  },
  {
   "cell_type": "markdown",
   "metadata": {},
   "source": [
    "##### Problem 2.1 \n",
    "To walk “downhill” on the loss function (equation 2.5), we measure its gradient with\n",
    "respect to the parameters ϕ0 and ϕ1. Calculate expressions for the slopes $$∂L/∂ϕ_0$$ and $$∂L/∂ϕ_1$$\n",
    "#### Solution\n",
    "$$L[\\phi]=\\sum_{i=1}^{I} (\\phi_0+\\phi_1x_i-y_i)^2$$\n",
    "The partial derivatives are given by:\n",
    "$$∂L/∂ϕ_0 = \\sum_{i=1}^{I} 2\\cdot (\\phi_0+\\phi_1x_i-y_i)$$\n",
    "$$∂L/∂ϕ_1 = \\sum_{i=1}^{I} 2\\cdot x_i \\cdot (\\phi_0+\\phi_1x_i-y_i)$$"
   ]
  },
  {
   "cell_type": "markdown",
   "metadata": {},
   "source": [
    "#### Problem 2.2 \n",
    "Show that we can find the minimum of the loss function in closed form by setting the expression for the derivatives from problem 2.1 to zero and solving for ϕ0 and ϕ1. Note that\n",
    "this works for linear regression but not for more complex models; this is why we use iterative model fitting methods like gradient descent (figure 2.4)."
   ]
  },
  {
   "cell_type": "markdown",
   "metadata": {},
   "source": [
    "# PINNs\n",
    "If we use the fact that our inputs are the independant variables we can compute the partial derivatives and form the PDE as a residual for the loss function\n"
   ]
  },
  {
   "cell_type": "markdown",
   "metadata": {},
   "source": [
    "https://github.com/maziarraissi/PINNs/blob/master/docs/index.md\n",
    "file:///C:/Users/Elad/Downloads/sensors-23-02792-v2.pdf"
   ]
  },
  {
   "cell_type": "markdown",
   "metadata": {},
   "source": []
  }
 ],
 "metadata": {
  "kernelspec": {
   "display_name": ".venv",
   "language": "python",
   "name": "python3"
  },
  "language_info": {
   "codemirror_mode": {
    "name": "ipython",
    "version": 3
   },
   "file_extension": ".py",
   "mimetype": "text/x-python",
   "name": "python",
   "nbconvert_exporter": "python",
   "pygments_lexer": "ipython3",
   "version": "3.10.11"
  },
  "orig_nbformat": 4
 },
 "nbformat": 4,
 "nbformat_minor": 2
}
