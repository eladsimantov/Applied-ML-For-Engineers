{
 "cells": [
  {
   "cell_type": "code",
   "execution_count": 2,
   "metadata": {},
   "outputs": [],
   "source": [
    "import torch \n",
    "import torch.nn as nn"
   ]
  },
  {
   "cell_type": "markdown",
   "metadata": {},
   "source": [
    "## Example 1 - MLP using ReLU activation"
   ]
  },
  {
   "cell_type": "code",
   "execution_count": 3,
   "metadata": {},
   "outputs": [],
   "source": [
    "# Define NN as a sub class of PyTorch's nn.Module class for inheretance\n",
    "class Example_1(nn.Module):\n",
    "    def __init__(self, in_dim=2, HL1_dim = 8, HL2_dim = 8, out_dim=2):\n",
    "        \"\"\"\n",
    "        Init an object to preform the sequence of a linear combination followed by a ReLU activation for the dimentions specified to the object \n",
    "        \"\"\"\n",
    "        super().__init__()\n",
    "        self.output = nn.Sequential(nn.Linear(in_dim, HL1_dim), nn.ReLU(),\n",
    "                                    nn.Linear(HL1_dim, HL2_dim), nn.ReLU(),\n",
    "                                    nn.Linear(HL2_dim, out_dim))\n",
    "\n",
    "    def forward(self, x):\n",
    "        \"\"\"\n",
    "        Define the forward pass - assign output of NN to input x\n",
    "        \"\"\"\n",
    "        return self.output(x)\n",
    "\n",
    "\n"
   ]
  },
  {
   "cell_type": "code",
   "execution_count": 4,
   "metadata": {},
   "outputs": [],
   "source": [
    "# Define the model\n",
    "model = Example_1()\n",
    "\n",
    "# Define loss function\n",
    "loss_func = nn.MSELoss()\n",
    "\n",
    "# Define the optimizer \n",
    "learning_rate = 0.01\n",
    "optimizer = torch.optim.SGD(model.parameters(), lr=learning_rate)\n",
    "\n"
   ]
  },
  {
   "cell_type": "code",
   "execution_count": null,
   "metadata": {},
   "outputs": [],
   "source": []
  },
  {
   "cell_type": "markdown",
   "metadata": {},
   "source": [
    "## Example 2 - Auto-Encoder NN\n",
    "This is used for data compression, dim reduction, SVD, etc.\n"
   ]
  },
  {
   "cell_type": "code",
   "execution_count": null,
   "metadata": {},
   "outputs": [],
   "source": [
    "# Define the class as previously\n",
    "class Example_2(nn.Module):\n",
    "    def __init__(self, in_dim=2, HL1_dim = 8, HL2_dim = 8, HL3_dim = 8, HL4_dim = 8, HL5_dim = 8, out_dim=2):\n",
    "        \"\"\"\n",
    "        Init an object to preform the sequence of a linear combination followed by a ReLU activation for the dimentions specified to the object \n",
    "        \"\"\"\n",
    "        super().__init__()\n",
    "        self.output = nn.Sequential(nn.Linear(in_dim, HL1_dim), nn.ReLU(),\n",
    "                                    nn.Linear(HL1_dim, HL2_dim), nn.ReLU(),\n",
    "                                    nn.Linear(HL2_dim, HL3_dim), nn.ReLU(),\n",
    "                                    nn.Linear(HL3_dim, HL4_dim), nn.ReLU(),\n",
    "                                    nn.Linear(HL4_dim, HL5_dim), nn.ReLU(),\n",
    "                                    nn.Linear(HL5_dim, out_dim))\n",
    "\n",
    "    def forward(self, x):\n",
    "        \"\"\"\n",
    "        Define the forward pass - assign output of NN to input x\n",
    "        \"\"\"\n",
    "        return self.output(x)\n"
   ]
  },
  {
   "cell_type": "code",
   "execution_count": null,
   "metadata": {},
   "outputs": [],
   "source": [
    "# Define the model\n",
    "model = Example_2()\n",
    "\n",
    "# Define loss function - this time we use binary cross entropy loss\n",
    "loss_func = nn.BCELoss()\n",
    "\n",
    "# Define the optimizer \n",
    "learning_rate = 0.01\n",
    "optimizer = torch.optim.SGD(model.parameters(), lr=learning_rate)\n",
    "\n"
   ]
  },
  {
   "cell_type": "markdown",
   "metadata": {},
   "source": [
    "## Example 3 - "
   ]
  },
  {
   "cell_type": "code",
   "execution_count": null,
   "metadata": {},
   "outputs": [],
   "source": [
    "# Define the class as previously\n",
    "class Example_2(nn.Module):\n",
    "    def __init__(self, in_dim=1, out_dim=1):\n",
    "        \"\"\"\n",
    "        Init an object, there are no hidden layers in this ex. \n",
    "        \"\"\"\n",
    "        super().__init__()\n",
    "        self.output = nn.Linear(in_dim, out_dim)\n",
    "\n",
    "    def forward(self, x):\n",
    "        \"\"\"\n",
    "        Define the forward pass - assign output of NN to input x\n",
    "        \"\"\"\n",
    "        return self.output(x)\n"
   ]
  },
  {
   "cell_type": "markdown",
   "metadata": {},
   "source": []
  }
 ],
 "metadata": {
  "kernelspec": {
   "display_name": ".venv",
   "language": "python",
   "name": "python3"
  },
  "language_info": {
   "codemirror_mode": {
    "name": "ipython",
    "version": 3
   },
   "file_extension": ".py",
   "mimetype": "text/x-python",
   "name": "python",
   "nbconvert_exporter": "python",
   "pygments_lexer": "ipython3",
   "version": "3.10.11"
  },
  "orig_nbformat": 4
 },
 "nbformat": 4,
 "nbformat_minor": 2
}
