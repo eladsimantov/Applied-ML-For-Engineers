{
 "cells": [
  {
   "cell_type": "markdown",
   "metadata": {},
   "source": [
    "|  |  | \n",
    "|----------|----------|\n",
    "| Name: | Elad Siman Tov | \n",
    "|  Course:   | ME 036049   |\n",
    "|  Homerwork:   | No. 1   |\n",
    "\n",
    "\n",
    "# Reading\n",
    "I hereby declare that I have read chapter 1 from the Course textbook - Understanding Deep Learning.\n",
    "# Theory\n",
    "1. Option C: Machine Learning is a branch of artificial intelligence that enables systems to learn from\n",
    "data and make predictions or decision.\n",
    "\n",
    "2. Option C: The main goal of supervised learning is minimizing the error between predicted and actual\n",
    "outputs\n",
    "\n",
    "3. Option C: An example of unsupervised learning is Customer segmentation.\n",
    "\n",
    "4. Option B: The purpose of a validation set in machine learning is to measure the model’s performance\n",
    "on unseen data and tune hyper-parameters.\n",
    "\n",
    "5. Option D: Over-fitting in machine learning is when the model memorizes the training data and performs\n",
    "poorly on unseen data.\n",
    "\n",
    "6. Option C: The purpose of feature scaling in machine learning is to standardize or normalize the numerical features to a common scale.\n",
    "\n",
    "7. Option B: The appropriate evaluation metrics for a binary classification problem is the F1-Score.\n",
    "\n",
    "8. Option A: The role of a loss function in a machine learning model is to measure the distance between\n",
    "predicted and actual values.\n",
    "\n",
    "9. Option D: The purpose of cross-validation in machine learning is to prevent over-fitting by using multiple\n",
    "validation sets.\n",
    "\n",
    "10. Option A: The machine learning algorithms used for both classification and regression are Random\n",
    "Forests, KNN and SVM (Under some modifications)\n",
    "\n",
    "# Prerequisites\n"
   ]
  },
  {
   "cell_type": "code",
   "execution_count": 1,
   "metadata": {},
   "outputs": [],
   "source": [
    "import numpy as np"
   ]
  },
  {
   "cell_type": "markdown",
   "metadata": {},
   "source": [
    "#### Question 1 - Dot and Cross"
   ]
  },
  {
   "cell_type": "code",
   "execution_count": 2,
   "metadata": {},
   "outputs": [
    {
     "data": {
      "text/plain": [
       "-15"
      ]
     },
     "execution_count": 2,
     "metadata": {},
     "output_type": "execute_result"
    }
   ],
   "source": [
    "u = np.array([2, 4, -1])\n",
    "v = np.array([1, -3, 5])\n",
    "np.dot(u, v)"
   ]
  },
  {
   "cell_type": "markdown",
   "metadata": {},
   "source": [
    "---"
   ]
  },
  {
   "cell_type": "markdown",
   "metadata": {},
   "source": [
    "#### Question 2 - Matrix Multiplications"
   ]
  },
  {
   "cell_type": "code",
   "execution_count": 3,
   "metadata": {},
   "outputs": [
    {
     "name": "stdout",
     "output_type": "stream",
     "text": [
      "[[16  6]\n",
      " [ 6  4]]\n",
      "14\n"
     ]
    }
   ],
   "source": [
    "A = np.array([[3, -1],\n",
    "              [2, 4]])\n",
    "B = np.array([[5, 2], \n",
    "              [-1, 0]])\n",
    "print(np.matmul(A, B))\n",
    "print(f'{np.linalg.det(A):.0f}')\n"
   ]
  },
  {
   "cell_type": "markdown",
   "metadata": {},
   "source": [
    "---"
   ]
  },
  {
   "cell_type": "markdown",
   "metadata": {},
   "source": [
    "#### Question 3 - Probability"
   ]
  },
  {
   "cell_type": "code",
   "execution_count": 4,
   "metadata": {},
   "outputs": [
    {
     "name": "stdout",
     "output_type": "stream",
     "text": [
      "3 / 6\n"
     ]
    }
   ],
   "source": [
    "print(\"3 / 6\")"
   ]
  },
  {
   "cell_type": "markdown",
   "metadata": {},
   "source": [
    "---"
   ]
  },
  {
   "cell_type": "markdown",
   "metadata": {},
   "source": [
    "#### Question 4 - Probability "
   ]
  },
  {
   "cell_type": "code",
   "execution_count": 5,
   "metadata": {},
   "outputs": [
    {
     "name": "stdout",
     "output_type": "stream",
     "text": [
      "26 / 26\n"
     ]
    }
   ],
   "source": [
    "print(\"26 / 26\")"
   ]
  },
  {
   "cell_type": "markdown",
   "metadata": {},
   "source": [
    "---"
   ]
  },
  {
   "cell_type": "markdown",
   "metadata": {},
   "source": [
    "#### Question 5 - Prime Numbers\n"
   ]
  },
  {
   "cell_type": "code",
   "execution_count": 6,
   "metadata": {},
   "outputs": [
    {
     "data": {
      "text/plain": [
       "[2, 3, 5, 7, 11]"
      ]
     },
     "execution_count": 6,
     "metadata": {},
     "output_type": "execute_result"
    }
   ],
   "source": [
    "first_five_primes = [2, 3, 5, 7, 11]\n",
    "first_five_primes"
   ]
  },
  {
   "cell_type": "markdown",
   "metadata": {},
   "source": [
    "---"
   ]
  },
  {
   "cell_type": "markdown",
   "metadata": {},
   "source": [
    "#### Question 6 - Even / Odd"
   ]
  },
  {
   "cell_type": "code",
   "execution_count": 16,
   "metadata": {},
   "outputs": [
    {
     "name": "stdout",
     "output_type": "stream",
     "text": [
      "The number 2 is Even\n",
      "The number 11 is Odd\n"
     ]
    }
   ],
   "source": [
    "def is_even(num: int) -> str:\n",
    "    return \"Odd\" if num % 2 else \"Even\"\n",
    "\n",
    "print(f\"The number 2 is {is_even(2)}\")\n",
    "print(f\"The number 11 is {is_even(11)}\")"
   ]
  },
  {
   "cell_type": "markdown",
   "metadata": {},
   "source": [
    "---"
   ]
  },
  {
   "cell_type": "markdown",
   "metadata": {},
   "source": [
    "#### Question 7 - NumPy Matrices"
   ]
  },
  {
   "cell_type": "code",
   "execution_count": 8,
   "metadata": {},
   "outputs": [
    {
     "name": "stdout",
     "output_type": "stream",
     "text": [
      "[[0.70393914 0.22099322 0.14898089]\n",
      " [0.07371348 0.7440815  0.90432532]\n",
      " [0.4300282  0.84015148 0.85990781]]\n",
      "[[0.70393914 0.07371348 0.4300282 ]\n",
      " [0.22099322 0.7440815  0.84015148]\n",
      " [0.14898089 0.90432532 0.85990781]]\n"
     ]
    }
   ],
   "source": [
    "randarray = np.random.rand(3, 3)\n",
    "print(randarray)\n",
    "transposed = randarray.T\n",
    "print(transposed)\n"
   ]
  },
  {
   "cell_type": "markdown",
   "metadata": {},
   "source": [
    "---"
   ]
  },
  {
   "cell_type": "markdown",
   "metadata": {},
   "source": [
    "#### Question 8 - Simulation"
   ]
  },
  {
   "cell_type": "code",
   "execution_count": 21,
   "metadata": {},
   "outputs": [
    {
     "name": "stdout",
     "output_type": "stream",
     "text": [
      "The simulated value is 0.2200\n",
      "The theoretical value is 0.1667\n",
      "The error is approx. -32%\n"
     ]
    }
   ],
   "source": [
    "theoretical = 1 / 6\n",
    "monte = [0 for _ in range(6)]\n",
    "for inx in range(100):\n",
    "    carlo = np.random.randint(1, 6)\n",
    "    monte[carlo] += 1\n",
    "\n",
    "print(f\"The simulated value is {monte[3] / 100:.4f}\")\n",
    "print(f\"The theoretical value is {theoretical:.4f}\")\n",
    "print(f\"The error is approx. {(100 * (theoretical - monte[3] / 100) / theoretical):.0f}%\")\n"
   ]
  },
  {
   "cell_type": "markdown",
   "metadata": {},
   "source": [
    "---"
   ]
  },
  {
   "cell_type": "markdown",
   "metadata": {},
   "source": [
    "# Computation\n",
    "\n",
    "### Deep Learning With Tensorflow and Keras \n",
    "*The following output was recieved after cloning the project and running mnist.py file:*\n",
    "\n",
    "... After some log ...\n",
    "\n",
    "Epoch 185/200\n",
    "375/375 [==============================] - 1s 3ms/step - loss: 0.2777 - accuracy: 0.9227 - val_loss: 0.2760 - val_accuracy: 0.9231\n",
    "Epoch 186/200\n",
    "375/375 [==============================] - 1s 3ms/step - loss: 0.2776 - accuracy: 0.9225 - val_loss: 0.2759 - val_accuracy: 0.9234\n",
    "Epoch 187/200\n",
    "375/375 [==============================] - 1s 3ms/step - loss: 0.2774 - accuracy: 0.9225 - val_loss: 0.2759 - val_accuracy: 0.9236\n",
    "Epoch 188/200\n",
    "375/375 [==============================] - 1s 3ms/step - loss: 0.2773 - accuracy: 0.9226 - val_loss: 0.2758 - val_accuracy: 0.9232\n",
    "Epoch 189/200\n",
    "375/375 [==============================] - 1s 3ms/step - loss: 0.2772 - accuracy: 0.9227 - val_loss: 0.2757 - val_accuracy: 0.9233\n",
    "Epoch 190/200\n",
    "375/375 [==============================] - 1s 4ms/step - loss: 0.2770 - accuracy: 0.9227 - val_loss: 0.2756 - val_accuracy: 0.9230\n",
    "Epoch 191/200\n",
    "375/375 [==============================] - 1s 4ms/step - loss: 0.2769 - accuracy: 0.9228 - val_loss: 0.2756 - val_accuracy: 0.9234\n",
    "Epoch 192/200\n",
    "375/375 [==============================] - 1s 3ms/step - loss: 0.2768 - accuracy: 0.9229 - val_loss: 0.2756 - val_accuracy: 0.9233\n",
    "Epoch 193/200\n",
    "375/375 [==============================] - 1s 4ms/step - loss: 0.2767 - accuracy: 0.9227 - val_loss: 0.2755 - val_accuracy: 0.9233\n",
    "Epoch 194/200\n",
    "375/375 [==============================] - 2s 4ms/step - loss: 0.2765 - accuracy: 0.9229 - val_loss: 0.2753 - val_accuracy: 0.9233\n",
    "Epoch 195/200\n",
    "375/375 [==============================] - 1s 4ms/step - loss: 0.2764 - accuracy: 0.9229 - val_loss: 0.2753 - val_accuracy: 0.9231\n",
    "Epoch 196/200\n",
    "375/375 [==============================] - 1s 3ms/step - loss: 0.2763 - accuracy: 0.9230 - val_loss: 0.2752 - val_accuracy: 0.9237\n",
    "Epoch 197/200\n",
    "375/375 [==============================] - 1s 3ms/step - loss: 0.2762 - accuracy: 0.9229 - val_loss: 0.2751 - val_accuracy: 0.9237\n",
    "Epoch 198/200\n",
    "375/375 [==============================] - 1s 4ms/step - loss: 0.2760 - accuracy: 0.9230 - val_loss: 0.2751 - val_accuracy: 0.9237\n",
    "Epoch 199/200\n",
    "375/375 [==============================] - 1s 3ms/step - loss: 0.2759 - accuracy: 0.9229 - val_loss: 0.2750 - val_accuracy: 0.9235\n",
    "Epoch 200/200\n",
    "375/375 [==============================] - 1s 4ms/step - loss: 0.2758 - accuracy: 0.9230 - val_loss: 0.2750 - val_accuracy: 0.9237\n",
    "313/313 [==============================] - 1s 2ms/step - loss: 0.2770 - accuracy: 0.9225\n",
    "Test accuracy: 0.9225000143051147\n",
    "313/313 [==============================] - 1s 2ms/step"
   ]
  },
  {
   "cell_type": "markdown",
   "metadata": {},
   "source": [
    "### Generative Deep Learning\n",
    "\n",
    "*The output after running mlp.ipynb cells will be attached in a separate pdf file*\n",
    "\n"
   ]
  },
  {
   "cell_type": "markdown",
   "metadata": {},
   "source": [
    "# Google Colab\n",
    "*I hereby declare that I have completed all the tasks in this section, and I will attach the TODO tasks in a separate pdf.*\n"
   ]
  }
 ],
 "metadata": {
  "kernelspec": {
   "display_name": ".venv",
   "language": "python",
   "name": "python3"
  },
  "language_info": {
   "codemirror_mode": {
    "name": "ipython",
    "version": 3
   },
   "file_extension": ".py",
   "mimetype": "text/x-python",
   "name": "python",
   "nbconvert_exporter": "python",
   "pygments_lexer": "ipython3",
   "version": "3.10.11"
  },
  "orig_nbformat": 4
 },
 "nbformat": 4,
 "nbformat_minor": 2
}
