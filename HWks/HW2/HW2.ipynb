{
 "cells": [
  {
   "cell_type": "markdown",
   "metadata": {},
   "source": [
    "#### Problem 2.1 \n",
    "To walk “downhill” on the loss function (equation 2.5), we measure its gradient with\n",
    "respect to the parameters ϕ0 and ϕ1. Calculate expressions for the slopes $∂L/∂ϕ_0$ and $∂L/∂ϕ_1$\n",
    "#### Solution\n",
    "The loss funciton is given by $L[\\phi]=\\sum_{i=1}^{I} (\\phi_0+\\phi_1x_i-y_i)^2$. Therefore, the partial derivatives are given by:\n",
    "$$∂L/∂ϕ_0 = \\sum_{i=1}^{I} 2\\cdot (\\phi_0+\\phi_1x_i-y_i)$$\n",
    "$$∂L/∂ϕ_1 = \\sum_{i=1}^{I} 2\\cdot x_i \\cdot (\\phi_0+\\phi_1x_i-y_i)$$"
   ]
  },
  {
   "cell_type": "markdown",
   "metadata": {},
   "source": [
    "#### Problem 2.2 \n",
    "Show that we can find the minimum of the loss function in closed form by setting the expression for the derivatives from problem 2.1 to zero and solving for ϕ0 and ϕ1. Note that\n",
    "this works for linear regression but not for more complex models; this is why we use iterative model fitting methods like gradient descent (figure 2.4)."
   ]
  },
  {
   "cell_type": "markdown",
   "metadata": {},
   "source": [
    "#### Solution\n",
    "Setting the expressions to zero yields:\n",
    "\n",
    "$$\n",
    "0 = \\sum_{i=1}^{I} 2\\cdot (\\phi_0+\\phi_1x_i-y_i) = \n",
    "    \\sum_{i=1}^{I} 2\\cdot (\\phi_0) + \n",
    "    \\sum_{i=1}^{I} 2\\cdot (\\phi_1x_i) -\n",
    "    \\sum_{i=1}^{I} 2\\cdot (y_i)=\n",
    "    2I\\phi_0+2\\phi_1\\sum_{i=1}^{I} x_i  - 2\\sum_{i=1}^{I} y_i\n",
    "\n",
    "    \\Rightarrow\n",
    "$$\n",
    "\n",
    "$$\n",
    "0 = \\sum_{i=1}^{I} 2\\cdot x_i \\cdot (\\phi_0+\\phi_1x_i-y_i)=\n",
    "    \\sum_{i=1}^{I} 2 x_i \\phi_0 +\n",
    "    \\sum_{i=1}^{I} 2\\phi_1x_i^2 -\n",
    "    \\sum_{i=1}^{I} 2x_iy_i =\n",
    "    2\\phi_0\\sum_{i=1}^{I} x_i + 2\\phi_1\\sum_{i=1}^{I} x_i^2 -2 \\sum_{i=1}^{I} 2x_iy_i\n",
    "    \\Rightarrow\n",
    "$$\n"
   ]
  },
  {
   "cell_type": "code",
   "execution_count": 53,
   "metadata": {},
   "outputs": [
    {
     "data": {
      "text/latex": [
       "$\\displaystyle \\sum_{i=0}^{n} 2 \\phi_{0} + \\sum_{i=0}^{n} 2 \\phi_{1} x{\\left(i \\right)} + \\sum_{i=0}^{n} - 2 y{\\left(i \\right)}$"
      ],
      "text/plain": [
       "Sum(2*phi_0, (i, 0, n)) + Sum(2*phi_1*x(i), (i, 0, n)) + Sum(-2*y(i), (i, 0, n))"
      ]
     },
     "execution_count": 53,
     "metadata": {},
     "output_type": "execute_result"
    }
   ],
   "source": [
    "# from sympy import *\n",
    "# n, i, phi_1, phi_0 = symbols(\"n, i, phi_1 phi_0\")\n",
    "# L = Function(\"L\")\n",
    "# x = Function(\"x\")\n",
    "# y = Function(\"y\")\n",
    "\n",
    "# L = Sum((phi_0 + phi_1 * x(i) - y(i)) ** 2, (i, 0, n))\n",
    "\n",
    "\n",
    "# expand(L.diff(phi_0))\n"
   ]
  },
  {
   "cell_type": "code",
   "execution_count": 57,
   "metadata": {},
   "outputs": [
    {
     "data": {
      "text/latex": [
       "$\\displaystyle \\sum_{i=0}^{n} 2 \\phi_{0} x{\\left(i \\right)} + \\sum_{i=0}^{n} 2 \\phi_{1} x^{2}{\\left(i \\right)} + \\sum_{i=0}^{n} - 2 x{\\left(i \\right)} y{\\left(i \\right)}$"
      ],
      "text/plain": [
       "Sum(2*phi_0*x(i), (i, 0, n)) + Sum(2*phi_1*x(i)**2, (i, 0, n)) + Sum(-2*x(i)*y(i), (i, 0, n))"
      ]
     },
     "execution_count": 57,
     "metadata": {},
     "output_type": "execute_result"
    }
   ],
   "source": [
    "(expand(L.diff(phi_1)))"
   ]
  },
  {
   "cell_type": "code",
   "execution_count": 50,
   "metadata": {},
   "outputs": [
    {
     "data": {
      "text/plain": [
       "[]"
      ]
     },
     "execution_count": 50,
     "metadata": {},
     "output_type": "execute_result"
    }
   ],
   "source": [
    "solve(summation(2*phi_0*x(i), (i, 0, n)) + summation(2*phi_1*x(i)**2, (i, 0, n)) + summation(-2*x(i)*y(i), (i, 0, n)), [phi_0, phi_1])"
   ]
  },
  {
   "cell_type": "code",
   "execution_count": null,
   "metadata": {},
   "outputs": [],
   "source": [
    "import numpy as np\n",
    "from matplotlib import pyplot as plt"
   ]
  },
  {
   "cell_type": "markdown",
   "metadata": {},
   "source": [
    "## Computation \n",
    "#### Problem 1 "
   ]
  },
  {
   "cell_type": "code",
   "execution_count": 16,
   "metadata": {},
   "outputs": [
    {
     "data": {
      "text/plain": [
       "Text(0, 0.5, 'y axis')"
      ]
     },
     "execution_count": 16,
     "metadata": {},
     "output_type": "execute_result"
    },
    {
     "data": {
      "image/png": "[encoded data removed]",
      "text/plain": [
       "<Figure size 640x480 with 1 Axes>"
      ]
     },
     "metadata": {},
     "output_type": "display_data"
    }
   ],
   "source": [
    "# Define the data points\n",
    "x = np.array([1, 2, 3, 4, 5, 6])\n",
    "y = np.array([1, 3, 2,5, 4, 6])\n",
    "x_mu = np.average(x)\n",
    "y_mu = np.average(y)\n",
    "\n",
    "# Find optimal slope and intercept from analytical solution\n",
    "beta_1 = sum((x - x_mu)*(y - y_mu)) / sum((x - x_mu)**2)\n",
    "beta_0 = y_mu - beta_1 * x_mu\n",
    "\n",
    "# plotting the data points and best line fit\n",
    "x_pred = np.linspace(0, 6, 100)\n",
    "y_pred = beta_0 + beta_1 * x_pred\n",
    "plt.plot(x_pred, y_pred, \"r-\")\n",
    "plt.scatter(x, y)\n",
    "plt.title(\"Best line fit from Linear Regression of data points\")\n",
    "plt.xlabel(\"x axis\")\n",
    "plt.ylabel(\"y axis\")\n",
    "\n",
    "\n"
   ]
  },
  {
   "cell_type": "markdown",
   "metadata": {},
   "source": [
    "#### Problem 2"
   ]
  },
  {
   "cell_type": "code",
   "execution_count": 15,
   "metadata": {},
   "outputs": [],
   "source": [
    "# Define the loss function\n",
    "# J = \n",
    "\n",
    "# Define learning rate and number of iterations\n",
    "alpha = 0.01\n",
    "i = 1000\n",
    "\n",
    "\n",
    "# Plot the cost history \n",
    "\n",
    "# Plot the Best line fit and the GD fit\n",
    "\n"
   ]
  },
  {
   "cell_type": "code",
   "execution_count": null,
   "metadata": {},
   "outputs": [],
   "source": []
  }
 ],
 "metadata": {
  "kernelspec": {
   "display_name": ".venv",
   "language": "python",
   "name": "python3"
  },
  "language_info": {
   "codemirror_mode": {
    "name": "ipython",
    "version": 3
   },
   "file_extension": ".py",
   "mimetype": "text/x-python",
   "name": "python",
   "nbconvert_exporter": "python",
   "pygments_lexer": "ipython3",
   "version": "3.10.11"
  }
 },
 "nbformat": 4,
 "nbformat_minor": 2
}
