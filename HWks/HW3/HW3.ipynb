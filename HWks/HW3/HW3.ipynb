{
  "cells": [
    {
      "cell_type": "markdown",
      "metadata": {
        "id": "PXjhXerqZkoo"
      },
      "source": [
        "|  |  |\n",
        "|----------|----------|\n",
        "| Name: | Elad Siman Tov |\n",
        "|  Course:   | ME 036049   |\n",
        "|  Homerwork:   | No. 3   |\n"
      ]
    },
    {
      "cell_type": "markdown",
      "metadata": {
        "id": "LI5-9MCMZkoq"
      },
      "source": [
        "Test changes in colab and upload to github"
      ]
    },
    {
      "cell_type": "code",
      "execution_count": null,
      "metadata": {
        "id": "JuikwtfIaEAc"
      },
      "outputs": [],
      "source": []
    }
  ],
  "metadata": {
    "colab": {
      "provenance": [],
      "toc_visible": true
    },
    "kernelspec": {
      "display_name": "Python 3",
      "name": "python3"
    },
    "language_info": {
      "name": "python",
      "version": "3.10.11"
    }
  },
  "nbformat": 4,
  "nbformat_minor": 0
}
