{
  "cells": [
    {
      "cell_type": "markdown",
      "metadata": {
        "id": "PXjhXerqZkoo"
      },
      "source": [
        "|  |  |\n",
        "|----------|----------|\n",
        "| Name: | Elad Siman Tov |\n",
        "|  Course:   | ME 036049   |\n",
        "|  Homerwork:   | No. 3   |\n"
      ]
    },
    {
      "cell_type": "markdown",
      "metadata": {
        "id": "LI5-9MCMZkoq"
      },
      "source": [
        "Test changes in colab and upload to github"
      ]
    },
    {
      "cell_type": "code",
      "source": [
        "import numpy as np\n"
      ],
      "metadata": {
        "id": "Q99U4mH2ZuPW"
      },
      "execution_count": 2,
      "outputs": []
    },
    {
      "cell_type": "code",
      "source": [],
      "metadata": {
        "id": "JuikwtfIaEAc"
      },
      "execution_count": null,
      "outputs": []
    }
  ],
  "metadata": {
    "language_info": {
      "name": "python"
    },
    "colab": {
      "provenance": [],
      "toc_visible": true
    },
    "kernelspec": {
      "name": "python3",
      "display_name": "Python 3"
    }
  },
  "nbformat": 4,
  "nbformat_minor": 0
}