{
 "cells": [
  {
   "cell_type": "markdown",
   "metadata": {},
   "source": [
    "|  |  | \n",
    "|----------|----------|\n",
    "| Name: | Elad Siman Tov | \n",
    "|  Course:   | ME 036049   |\n",
    "|  Homerwork:   | No. 3   |\n"
   ]
  },
  {
   "cell_type": "markdown",
   "metadata": {},
   "source": []
  }
 ],
 "metadata": {
  "language_info": {
   "name": "python"
  }
 },
 "nbformat": 4,
 "nbformat_minor": 2
}
