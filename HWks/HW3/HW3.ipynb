{
  "cells": [
    {
      "cell_type": "markdown",
      "metadata": {
        "id": "PXjhXerqZkoo"
      },
      "source": [
        "|  |  |\n",
        "|----------|----------|\n",
        "| Name: | Elad Siman Tov |\n",
        "|  Course:   | ME 036049   |\n",
        "|  Homerwork:   | No. 3   |\n"
      ]
    },
    {
      "cell_type": "markdown",
      "metadata": {
        "id": "LI5-9MCMZkoq"
      },
      "source": [
        "# Theory "
      ]
    },
    {
      "cell_type": "markdown",
      "metadata": {},
      "source": [
        "### Problem 3.1\n",
        "If the activation function would be linear, the mapping would be ..\n",
        "If the activation function was removed, the mapping would be ..\n",
        "\n",
        "\n",
        "### Problem 3.5\n",
        "\n",
        "\n",
        "### Problem 3.10\n",
        "\n",
        "\n",
        "### Problem 4.4\n",
        "\n",
        "\n",
        "### Problem 4.5\n",
        "\n",
        "\n",
        "### Problem 4.6\n"
      ]
    },
    {
      "cell_type": "code",
      "execution_count": null,
      "metadata": {},
      "outputs": [],
      "source": []
    },
    {
      "cell_type": "code",
      "execution_count": null,
      "metadata": {
        "id": "JuikwtfIaEAc"
      },
      "outputs": [],
      "source": []
    }
  ],
  "metadata": {
    "colab": {
      "provenance": [],
      "toc_visible": true
    },
    "kernelspec": {
      "display_name": "Python 3",
      "name": "python3"
    },
    "language_info": {
      "name": "python",
      "version": "3.10.11"
    }
  },
  "nbformat": 4,
  "nbformat_minor": 0
}
