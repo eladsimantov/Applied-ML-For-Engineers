{
 "cells": [
  {
   "cell_type": "markdown",
   "metadata": {},
   "source": [
    "# Prerequisites\n"
   ]
  },
  {
   "cell_type": "code",
   "execution_count": 112,
   "metadata": {},
   "outputs": [],
   "source": [
    "import numpy as np"
   ]
  },
  {
   "cell_type": "markdown",
   "metadata": {},
   "source": [
    "#### Question 1 - Dot and Cross"
   ]
  },
  {
   "cell_type": "code",
   "execution_count": 113,
   "metadata": {},
   "outputs": [
    {
     "data": {
      "text/plain": [
       "-15"
      ]
     },
     "execution_count": 113,
     "metadata": {},
     "output_type": "execute_result"
    }
   ],
   "source": [
    "u = np.array([2, 4, -1])\n",
    "v = np.array([1, -3, 5])\n",
    "np.dot(u, v)"
   ]
  },
  {
   "cell_type": "markdown",
   "metadata": {},
   "source": [
    "#### Question 2 - Matrix Multiplications"
   ]
  },
  {
   "cell_type": "code",
   "execution_count": 114,
   "metadata": {},
   "outputs": [
    {
     "name": "stdout",
     "output_type": "stream",
     "text": [
      "[[16  6]\n",
      " [ 6  4]]\n",
      "14\n"
     ]
    }
   ],
   "source": [
    "A = np.array([[3, -1],\n",
    "              [2, 4]])\n",
    "B = np.array([[5, 2], \n",
    "              [-1, 0]])\n",
    "print(np.matmul(A, B))\n",
    "print(f'{np.linalg.det(A):.0f}')\n"
   ]
  },
  {
   "cell_type": "markdown",
   "metadata": {},
   "source": [
    "#### Question 3 - Probability"
   ]
  },
  {
   "cell_type": "code",
   "execution_count": 115,
   "metadata": {},
   "outputs": [
    {
     "name": "stdout",
     "output_type": "stream",
     "text": [
      "3 / 6\n"
     ]
    }
   ],
   "source": [
    "print(\"3 / 6\")"
   ]
  },
  {
   "cell_type": "markdown",
   "metadata": {},
   "source": [
    "#### Question 4 - Probability "
   ]
  },
  {
   "cell_type": "code",
   "execution_count": 116,
   "metadata": {},
   "outputs": [
    {
     "name": "stdout",
     "output_type": "stream",
     "text": [
      "26 / 26\n"
     ]
    }
   ],
   "source": [
    "print(\"26 / 26\")"
   ]
  },
  {
   "cell_type": "markdown",
   "metadata": {},
   "source": [
    "#### Question 5 - Prime Numbers\n"
   ]
  },
  {
   "cell_type": "code",
   "execution_count": 117,
   "metadata": {},
   "outputs": [
    {
     "data": {
      "text/plain": [
       "[2, 3, 5, 7, 11]"
      ]
     },
     "execution_count": 117,
     "metadata": {},
     "output_type": "execute_result"
    }
   ],
   "source": [
    "first_five_primes = [2, 3, 5, 7, 11]\n",
    "first_five_primes"
   ]
  },
  {
   "cell_type": "markdown",
   "metadata": {},
   "source": [
    "#### Question 6 - Even / Odd"
   ]
  },
  {
   "cell_type": "code",
   "execution_count": 118,
   "metadata": {},
   "outputs": [],
   "source": [
    "def is_even(num: int) -> str:\n",
    "    return \"Odd\" if num % 2 else \"Even\""
   ]
  },
  {
   "cell_type": "markdown",
   "metadata": {},
   "source": [
    "#### Question 7 - NumPy Matrices"
   ]
  },
  {
   "cell_type": "code",
   "execution_count": 119,
   "metadata": {},
   "outputs": [
    {
     "name": "stdout",
     "output_type": "stream",
     "text": [
      "[[0.75467759 0.83340783 0.08002645]\n",
      " [0.92724008 0.76722221 0.39658964]\n",
      " [0.09296492 0.78547947 0.63544528]]\n",
      "[[0.75467759 0.92724008 0.09296492]\n",
      " [0.83340783 0.76722221 0.78547947]\n",
      " [0.08002645 0.39658964 0.63544528]]\n"
     ]
    }
   ],
   "source": [
    "randarray = np.random.rand(3, 3)\n",
    "print(randarray)\n",
    "transposed = randarray.T\n",
    "print(transposed)\n"
   ]
  },
  {
   "cell_type": "markdown",
   "metadata": {},
   "source": [
    "#### Question 8 - Simulation"
   ]
  },
  {
   "cell_type": "code",
   "execution_count": 120,
   "metadata": {},
   "outputs": [
    {
     "name": "stdout",
     "output_type": "stream",
     "text": [
      "The simulated value is 0.2000\n",
      "The theoretical value is 0.1667\n"
     ]
    }
   ],
   "source": [
    "theoretical = 1 / 6\n",
    "monte = [0 for _ in range(6)]\n",
    "for inx in range(100):\n",
    "    carlo = np.random.randint(1, 6)\n",
    "    monte[carlo] += 1\n",
    "\n",
    "print(f\"The simulated value is {monte[3] / 100:.4f}\")\n",
    "print(f\"The theoretical value is {theoretical:.4f}\")\n"
   ]
  }
 ],
 "metadata": {
  "kernelspec": {
   "display_name": ".venv",
   "language": "python",
   "name": "python3"
  },
  "language_info": {
   "codemirror_mode": {
    "name": "ipython",
    "version": 3
   },
   "file_extension": ".py",
   "mimetype": "text/x-python",
   "name": "python",
   "nbconvert_exporter": "python",
   "pygments_lexer": "ipython3",
   "version": "3.10.11"
  },
  "orig_nbformat": 4
 },
 "nbformat": 4,
 "nbformat_minor": 2
}
